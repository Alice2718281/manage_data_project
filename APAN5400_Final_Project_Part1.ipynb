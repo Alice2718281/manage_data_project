{
  "cells": [
    {
      "cell_type": "markdown",
      "metadata": {
        "id": "TqneHWk1wkKn"
      },
      "source": [
        "APAN5400_GroupProject: Chicago Crime Anaysis\n",
        "\n",
        "Group: Dollar is Coming\n",
        "\n",
        "Part 1: Colab clean large data which stores in Google Drive by Spark"
      ]
    },
    {
      "cell_type": "markdown",
      "metadata": {
        "id": "95XRNEDUwzWz"
      },
      "source": [
        "# Import Packages"
      ]
    },
    {
      "cell_type": "code",
      "execution_count": 7,
      "metadata": {
        "colab": {
          "base_uri": "https://localhost:8080/"
        },
        "id": "fum_kxrxwd5-",
        "outputId": "8ada11bd-70c5-47a2-873b-392c694a346e"
      },
      "outputs": [],
      "source": [
        "# !pip install -U \"psycopg[binary]\"\n",
        "# !pip install -U pyspark\n",
        "# !pip install psycopg2\n",
        "# !pip install geopandas matplotlib\n",
        "# !pip install flask pandas"
      ]
    },
    {
      "cell_type": "code",
      "execution_count": 1,
      "metadata": {
        "id": "poZasyv5CIvz"
      },
      "outputs": [],
      "source": [
        "import pandas as pd\n",
        "import matplotlib.pyplot as plt\n",
        "import psycopg, os\n",
        "from pyspark.sql import SparkSession\n",
        "from pyspark.sql.functions import col\n",
        "import pandas as pd\n",
        "from sqlalchemy import create_engine\n",
        "from pyspark.sql.functions import to_date\n",
        "from pyspark.sql import functions as F\n",
        "from pyspark.sql import SparkSession\n",
        "import os\n",
        "import sys\n",
        "import psycopg2\n",
        "import geopandas as gpd\n",
        "import plotly.express as px\n",
        "import json\n",
        "import plotly"
      ]
    },
    {
      "cell_type": "code",
      "execution_count": 1,
      "metadata": {
        "id": "9s2ljzctAOeq"
      },
      "outputs": [],
      "source": [
        "# Make sure in the same version\n",
        "os.environ['PYSPARK_PYTHON'] = sys.executable\n",
        "os.environ['PYSPARK_DRIVER_PYTHON'] = sys.executable"
      ]
    },
    {
      "cell_type": "code",
      "execution_count": 2,
      "metadata": {
        "colab": {
          "base_uri": "https://localhost:8080/"
        },
        "id": "Hg6WRd3hAdrK",
        "outputId": "35e0e94a-be3d-4a41-e04b-246aa5b7038f"
      },
      "outputs": [
        {
          "name": "stdout",
          "output_type": "stream",
          "text": [
            "Using Apache Spark Version 3.5.1\n"
          ]
        }
      ],
      "source": [
        "spark = SparkSession \\\n",
        "    .builder \\\n",
        "    .appName(\"Intro to Apache Spark\") \\\n",
        "    .config(\"spark.cores.max\", \"4\") \\\n",
        "    .config('spark.executor.memory', '8G') \\\n",
        "    .config('spark.driver.maxResultSize', '8g') \\\n",
        "    .config('spark.kryoserializer.buffer.max', '512m') \\\n",
        "    .config(\"spark.driver.cores\", \"4\") \\\n",
        "    .getOrCreate()\n",
        "sc = spark.sparkContext\n",
        "\n",
        "print(\"Using Apache Spark Version\", spark.version)"
      ]
    },
    {
      "cell_type": "markdown",
      "metadata": {
        "id": "OfNlrVkvB4xy"
      },
      "source": [
        "# Read Data"
      ]
    },
    {
      "cell_type": "markdown",
      "metadata": {},
      "source": [
        "We finish this part through google drive."
      ]
    },
    {
      "cell_type": "code",
      "execution_count": 5,
      "metadata": {
        "colab": {
          "base_uri": "https://localhost:8080/"
        },
        "id": "Oh0yBNUEPquk",
        "outputId": "21946ba2-3155-48ac-de5a-290476669e16"
      },
      "outputs": [],
      "source": [
        "# from google.colab import drive\n",
        "# drive.mount('/content/drive')"
      ]
    },
    {
      "cell_type": "code",
      "execution_count": null,
      "metadata": {
        "colab": {
          "base_uri": "https://localhost:8080/"
        },
        "id": "ctx223Z4PsZq",
        "outputId": "2e87cd70-6915-47f3-dff4-f64849c044ed"
      },
      "outputs": [
        {
          "name": "stdout",
          "output_type": "stream",
          "text": [
            "root\n",
            " |-- ID: integer (nullable = true)\n",
            " |-- Case Number: string (nullable = true)\n",
            " |-- Date: string (nullable = true)\n",
            " |-- Block: string (nullable = true)\n",
            " |-- IUCR: string (nullable = true)\n",
            " |-- Primary Type: string (nullable = true)\n",
            " |-- Description: string (nullable = true)\n",
            " |-- Location Description: string (nullable = true)\n",
            " |-- Arrest: boolean (nullable = true)\n",
            " |-- Domestic: boolean (nullable = true)\n",
            " |-- Beat: integer (nullable = true)\n",
            " |-- District: integer (nullable = true)\n",
            " |-- Ward: integer (nullable = true)\n",
            " |-- Community Area: integer (nullable = true)\n",
            " |-- FBI Code: string (nullable = true)\n",
            " |-- X Coordinate: integer (nullable = true)\n",
            " |-- Y Coordinate: integer (nullable = true)\n",
            " |-- Year: integer (nullable = true)\n",
            " |-- Updated On: string (nullable = true)\n",
            " |-- Latitude: double (nullable = true)\n",
            " |-- Longitude: double (nullable = true)\n",
            " |-- Location: string (nullable = true)\n",
            "\n"
          ]
        }
      ],
      "source": [
        "# Define the filename\n",
        "filename = '/content/drive/My Drive/Colab Notebooks/Crimes_-_2001_to_Present.csv'\n",
        "\n",
        "# Load data into Spark DataFrame\n",
        "crime_df = spark.read.option(\"header\", \"true\") \\\n",
        "                   .option(\"delimiter\", \",\") \\\n",
        "                   .option(\"inferSchema\", \"true\") \\\n",
        "                   .csv(filename)\n",
        "\n",
        "crime_df.printSchema()"
      ]
    },
    {
      "cell_type": "code",
      "execution_count": null,
      "metadata": {
        "colab": {
          "base_uri": "https://localhost:8080/"
        },
        "id": "8xMkuRTVOGdW",
        "outputId": "35e1237f-498f-4eac-ac04-46f99714feff"
      },
      "outputs": [
        {
          "name": "stdout",
          "output_type": "stream",
          "text": [
            "Size of the CSV file:1.7671623276546597GB\n"
          ]
        }
      ],
      "source": [
        "# Get the size of the CSV file\n",
        "file_size_gb = os.path.getsize(filename) / (1024 * 1024 * 1024)  # 1 GB = 1024 * 1024 * 1024 bytes\n",
        "\n",
        "print(f\"Size of the CSV file:{file_size_gb}GB\")"
      ]
    },
    {
      "cell_type": "code",
      "execution_count": null,
      "metadata": {
        "colab": {
          "base_uri": "https://localhost:8080/"
        },
        "id": "hA-gXZ-jQ7iS",
        "outputId": "19565c1c-5bf0-4f46-86a8-d6922385bb33"
      },
      "outputs": [
        {
          "name": "stdout",
          "output_type": "stream",
          "text": [
            "There are 8034263 observations of Chicago crime and 22 features: ['ID', 'Case Number', 'Date', 'Block', 'IUCR', 'Primary Type', 'Description', 'Location Description', 'Arrest', 'Domestic', 'Beat', 'District', 'Ward', 'Community Area', 'FBI Code', 'X Coordinate', 'Y Coordinate', 'Year', 'Updated On', 'Latitude', 'Longitude', 'Location'].\n"
          ]
        }
      ],
      "source": [
        "print(f\"There are {crime_df.count()} observations of Chicago crime and {len(crime_df.columns)} features: {crime_df.columns}.\")"
      ]
    },
    {
      "cell_type": "markdown",
      "metadata": {
        "id": "k7NYniOQYIcQ"
      },
      "source": [
        "# Data Cleaning"
      ]
    },
    {
      "cell_type": "code",
      "execution_count": null,
      "metadata": {
        "id": "aRSHsKiKQj-U"
      },
      "outputs": [],
      "source": [
        "# Rename columns by replacing spaces with underscores\n",
        "new_column_names = [col.replace(' ', '_') for col in crime_df.columns]\n",
        "crime_df_cleaning = crime_df\n",
        "for i in range(len(crime_df.columns)):\n",
        "    crime_df_cleaning = crime_df_cleaning.withColumnRenamed(crime_df.columns[i], new_column_names[i])"
      ]
    },
    {
      "cell_type": "markdown",
      "metadata": {
        "id": "eWHFpbOtV07o"
      },
      "source": [
        "**Columns Explaination:**\n",
        "\n",
        "ID: Unique identifier for each record.\n",
        "\n",
        "Case_Number: Unique identifier for each reported case.\n",
        "\n",
        "Date: Date of the reported incident.\n",
        "\n",
        "Block: Block where the incident occurred.\n",
        "\n",
        "IUCR: Illinois Uniform Crime Reporting code, a standardized code for criminal offenses.\n",
        "\n",
        "Primary_Type: Primary description of the crime.\n",
        "\n",
        "Description: Detailed description of the crime.\n",
        "\n",
        "Location_Description: Description of the location where the incident occurred.\n",
        "\n",
        "Arrest: Indicates whether an arrest was made for the reported crime.\n",
        "\n",
        "Domestic: Indicates whether the incident involved domestic violence.\n",
        "\n",
        "Beat: Police beat where the incident occurred.\n",
        "\n",
        "District: Police district where the incident occurred.\n",
        "\n",
        "Ward: Ward where the incident occurred.\n",
        "\n",
        "Community_Area: Community area where the incident occurred.\n",
        "\n",
        "FBI_Code: FBI crime classification code.\n",
        "\n",
        "X_Coordinate: X-coordinate of the location where the incident occurred.\n",
        "\n",
        "Y_Coordinate: Y-coordinate of the location where the incident occurred.\n",
        "\n",
        "Year: Year of the reported incident.\n",
        "\n",
        "Updated_On: Date when the record was last updated.\n",
        "\n",
        "Latitude: Latitude of the location where the incident occurred.\n",
        "\n",
        "Longitude: Longitude of the location where the incident occurred.\n",
        "\n",
        "Location: Combined latitude and longitude.\n",
        "\n",
        "Due to there're a few similar columns appear at the same time (eg. Beat, District, Ward, Community_Area; X_Coordinate, Y_Coordinate, Latitute, Longtitude, Location), so we only keep one of each. There are a few duplicate case numbers, we would like to extract every duplicated row and see how to clean them. Also, Date and Updated_Date have Timestamp which we also do not need, so we only keep dd-mm-yyyy date format later."
      ]
    },
    {
      "cell_type": "markdown",
      "metadata": {},
      "source": [
        "### Drop Similar Columns"
      ]
    },
    {
      "cell_type": "code",
      "execution_count": null,
      "metadata": {
        "id": "0Lm859-GQUwb"
      },
      "outputs": [],
      "source": [
        "columns_to_drop = ['Beat', 'District', 'Ward', 'FBI_Code', 'X_Coordinate', 'Y_Coordinate', 'Location']\n",
        "crime_df_cleaning = crime_df_cleaning.drop(*columns_to_drop)"
      ]
    },
    {
      "cell_type": "markdown",
      "metadata": {},
      "source": [
        "### Check Duplicate Case Number Observations"
      ]
    },
    {
      "cell_type": "code",
      "execution_count": null,
      "metadata": {
        "colab": {
          "base_uri": "https://localhost:8080/"
        },
        "id": "Aq9wpaZT29Gu",
        "outputId": "642463bd-2e2b-4baf-f3e3-f8f83ddb91d4"
      },
      "outputs": [
        {
          "data": {
            "text/plain": [
              "470"
            ]
          },
          "execution_count": 71,
          "metadata": {},
          "output_type": "execute_result"
        }
      ],
      "source": [
        "# Group by Case_Number and count occurrences\n",
        "duplicate_case_numbers = crime_df_cleaning.groupBy(\"Case_Number\").agg(F.count(\"ID\").alias(\"count\"))\n",
        "\n",
        "# Filter out duplicate case numbers with count > 1\n",
        "duplicate_case_numbers = duplicate_case_numbers.filter(\"count > 1\")\n",
        "\n",
        "# Show the duplicate case numbers\n",
        "duplicate_case_numbers.count()"
      ]
    },
    {
      "cell_type": "code",
      "execution_count": null,
      "metadata": {
        "colab": {
          "base_uri": "https://localhost:8080/"
        },
        "id": "B3fw0KFQapz3",
        "outputId": "5ed73ef9-6395-4018-ee5e-0946b3673441"
      },
      "outputs": [
        {
          "name": "stdout",
          "output_type": "stream",
          "text": [
            "+-----------+-----+-----+--------------------+--------------------+----+------------+-------------------+--------------------+------+--------+--------------+----+--------------------+------------+-------------+\n",
            "|Case_Number|count|   ID|                Date|               Block|IUCR|Primary_Type|        Description|Location_Description|Arrest|Domestic|Community_Area|Year|          Updated_On|    Latitude|    Longitude|\n",
            "+-----------+-----+-----+--------------------+--------------------+----+------------+-------------------+--------------------+------+--------+--------------+----+--------------------+------------+-------------+\n",
            "|   HH494479|    2| 1598|07/08/2002 01:45:...| 080XX S STEWART AVE|0110|    HOMICIDE|FIRST DEGREE MURDER|                AUTO|  true|   false|            44|2002|09/19/2022 03:41:...| 41.74828207|  -87.6342366|\n",
            "|   HH494479|    2| 1597|07/08/2002 01:45:...| 080XX S STEWART AVE|0110|    HOMICIDE|FIRST DEGREE MURDER|                AUTO|  true|   false|            44|2002|09/19/2022 03:41:...| 41.74828207|  -87.6342366|\n",
            "|   HJ454908|    2| 2235|06/26/2003 01:07:...|    022XX S STATE ST|0110|    HOMICIDE|FIRST DEGREE MURDER|         CHA GROUNDS|  true|   false|            33|2003|09/19/2022 03:41:...|41.852051628|-87.627069839|\n",
            "|   HJ454908|    2| 2236|06/26/2003 01:07:...|    022XX S STATE ST|0110|    HOMICIDE|FIRST DEGREE MURDER|         CHA GROUNDS|  true|   false|            33|2003|09/19/2022 03:41:...|41.852051628|-87.627069839|\n",
            "|   HP478965|    2| 4659|07/28/2008 06:03:...|043XX W WRIGHTWOO...|0110|    HOMICIDE|FIRST DEGREE MURDER|              STREET|  true|   false|            20|2008|09/19/2022 03:41:...|41.928019152| -87.73453736|\n",
            "|   HP478965|    2| 4658|07/28/2008 06:03:...|043XX W WRIGHTWOO...|0110|    HOMICIDE|FIRST DEGREE MURDER|              STREET|  true|   false|            20|2008|09/19/2022 03:41:...|41.928019152| -87.73453736|\n",
            "|   HP490209|    2| 4674|08/02/2008 04:27:...|   000XX N LOTUS AVE|0110|    HOMICIDE|FIRST DEGREE MURDER|              STREET| false|   false|            25|2008|09/19/2022 03:41:...|41.881329293|-87.761578328|\n",
            "|   HP490209|    2| 4673|08/02/2008 04:27:...|   000XX N LOTUS AVE|0110|    HOMICIDE|FIRST DEGREE MURDER|              STREET| false|   false|            25|2008|09/19/2022 03:41:...|41.881329293|-87.761578328|\n",
            "|   HS148489|    2|19262|02/02/2010 06:28:...|   085XX S MORGAN ST|0110|    HOMICIDE|FIRST DEGREE MURDER|                AUTO|  true|   false|            71|2010|09/19/2022 03:41:...|41.738925174|-87.648561871|\n",
            "|   HS148489|    2|19261|02/02/2010 06:28:...|   085XX S MORGAN ST|0110|    HOMICIDE|FIRST DEGREE MURDER|                AUTO|  true|   false|            71|2010|09/19/2022 03:41:...|41.738925174|-87.648561871|\n",
            "|   HV324883|    2|20449|06/08/2012 04:43:...|      051XX S MAY ST|0110|    HOMICIDE|FIRST DEGREE MURDER|              STREET|  true|   false|            61|2012|09/19/2022 03:41:...|41.800821127|-87.653830052|\n",
            "|   HV324883|    2|20448|06/08/2012 04:43:...|      051XX S MAY ST|0110|    HOMICIDE|FIRST DEGREE MURDER|              STREET|  true|   false|            61|2012|09/01/2022 03:42:...|41.800821127|-87.653830052|\n",
            "|   HV338591|    2|20469|06/17/2012 12:38:...| 023XX N LARAMIE AVE|0110|    HOMICIDE|FIRST DEGREE MURDER|              STREET|  true|    true|            19|2012|09/19/2022 03:41:...|41.923464491|-87.756120351|\n",
            "|   HV338591|    2|20475|06/20/2012 02:58:...| 023XX N LARAMIE AVE|0110|    HOMICIDE|FIRST DEGREE MURDER|               PORCH|  true|    true|            19|2012|09/19/2022 03:41:...|41.923464491|-87.756120351|\n",
            "|   HV363936|    2|20496|07/02/2012 09:41:...|    041XX W ADAMS ST|0110|    HOMICIDE|FIRST DEGREE MURDER|              STREET|  true|   false|            26|2012|09/19/2022 03:41:...|41.877931689|-87.729368696|\n",
            "|   HV363936|    2|20498|07/03/2012 08:29:...|    041XX W ADAMS ST|0110|    HOMICIDE|FIRST DEGREE MURDER|              STREET|  true|   false|            26|2012|09/19/2022 03:41:...|41.877931689|-87.729368696|\n",
            "|   HX295988|    2|21425|06/09/2014 08:55:...|     035XX W 79TH PL|0110|    HOMICIDE|FIRST DEGREE MURDER|               HOUSE|  true|    true|            70|2014|09/01/2022 03:42:...|41.748757987| -87.71078117|\n",
            "|   HX295988|    2|21426|06/09/2014 08:55:...|     035XX W 79TH PL|0110|    HOMICIDE|FIRST DEGREE MURDER|               HOUSE|  true|    true|            70|2014|09/19/2022 03:41:...|41.748757987| -87.71078117|\n",
            "|   HY397947|    2|22057|08/26/2015 02:07:...|030XX W VAN BUREN ST|0110|    HOMICIDE|FIRST DEGREE MURDER|       PARK PROPERTY|  true|   false|            27|2015|09/19/2022 03:41:...|41.875909279|-87.702836558|\n",
            "|   HY397947|    2|22056|08/26/2015 11:37:...|030XX W VAN BUREN ST|0110|    HOMICIDE|FIRST DEGREE MURDER|       PARK PROPERTY|  true|   false|            27|2015|09/19/2022 03:41:...|41.875909279|-87.702836558|\n",
            "+-----------+-----+-----+--------------------+--------------------+----+------------+-------------------+--------------------+------+--------+--------------+----+--------------------+------------+-------------+\n",
            "only showing top 20 rows\n",
            "\n"
          ]
        }
      ],
      "source": [
        "# Join duplicate_case_numbers with cb_sdf_cleaning to get all columns for duplicate case numbers\n",
        "duplicate_rows_with_details = duplicate_case_numbers.join(crime_df_cleaning, \"Case_Number\", \"inner\")\n",
        "\n",
        "# Show the DataFrame with details of duplicate case numbers\n",
        "duplicate_rows_with_details.show(5)"
      ]
    },
    {
      "cell_type": "markdown",
      "metadata": {
        "id": "Zb0W9VAza5JL"
      },
      "source": [
        "We can see these duplicate case number all have very serious IUCR and 'First Degree Murder' which indicates these case are serious and have multiple people report this case. So, we want to keep only the newest record for each duplicate case number and drop the duplicates,"
      ]
    },
    {
      "cell_type": "code",
      "execution_count": null,
      "metadata": {
        "id": "z75PZDwRfzNM"
      },
      "outputs": [],
      "source": [
        "# Drop duplicate rows based on Case_Number and keep the newest one\n",
        "crime_df_cleaning = crime_df_cleaning.orderBy(\"Updated_On\", ascending=False).dropDuplicates([\"Case_Number\"])"
      ]
    },
    {
      "cell_type": "code",
      "execution_count": null,
      "metadata": {
        "colab": {
          "base_uri": "https://localhost:8080/"
        },
        "id": "QaDw4qb7gEHE",
        "outputId": "80b44daa-694a-44a7-e8c8-856012ff4bf0"
      },
      "outputs": [
        {
          "data": {
            "text/plain": [
              "8033700"
            ]
          },
          "execution_count": 24,
          "metadata": {},
          "output_type": "execute_result"
        }
      ],
      "source": [
        "crime_df_cleaning.count()"
      ]
    },
    {
      "cell_type": "code",
      "execution_count": null,
      "metadata": {
        "colab": {
          "base_uri": "https://localhost:8080/"
        },
        "id": "wG9wRTR6o0Bn",
        "outputId": "6adcd1d6-34b7-44da-d0ff-1fc45db96a3b"
      },
      "outputs": [
        {
          "name": "stdout",
          "output_type": "stream",
          "text": [
            "+----+-----------+----------+-------------------+----+------------+-------------------+--------------------+------+--------+--------------+----+----------+-----------+-----------+\n",
            "|  ID|Case_Number|      Date|              Block|IUCR|Primary_Type|        Description|Location_Description|Arrest|Domestic|Community_Area|Year|Updated_On|   Latitude|  Longitude|\n",
            "+----+-----------+----------+-------------------+----+------------+-------------------+--------------------+------+--------+--------------+----+----------+-----------+-----------+\n",
            "|1598|   HH494479|2002-07-08|080XX S STEWART AVE|0110|    HOMICIDE|FIRST DEGREE MURDER|                AUTO|  true|   false|            44|2002|2022-09-19|41.74828207|-87.6342366|\n",
            "+----+-----------+----------+-------------------+----+------------+-------------------+--------------------+------+--------+--------------+----+----------+-----------+-----------+\n",
            "\n"
          ]
        }
      ],
      "source": [
        "# Extract one row to verify whether above action success\n",
        "crime_df_cleaning.filter(crime_df_cleaning[\"Case_Number\"] == 'HH494479').show()"
      ]
    },
    {
      "cell_type": "markdown",
      "metadata": {},
      "source": [
        "### Convert Date Format"
      ]
    },
    {
      "cell_type": "code",
      "execution_count": null,
      "metadata": {
        "id": "MxZaoJFzWuhO"
      },
      "outputs": [],
      "source": [
        "# Convert 'Date' and 'Updated_On' columns to date format\n",
        "crime_df_cleaned = crime_df_cleaning.withColumn(\"Date\", to_date(\"Date\", \"MM/dd/yyyy hh:mm:ss a\")) \\\n",
        "                                 .withColumn(\"Updated_On\", to_date(\"Updated_On\", \"MM/dd/yyyy hh:mm:ss a\"))"
      ]
    },
    {
      "cell_type": "code",
      "execution_count": null,
      "metadata": {
        "colab": {
          "base_uri": "https://localhost:8080/"
        },
        "id": "84ftwVc0XaO1",
        "outputId": "50d26620-5d62-4478-e6f5-052f9b3a9c74"
      },
      "outputs": [
        {
          "name": "stdout",
          "output_type": "stream",
          "text": [
            "+-------+-----------+----------+--------------------+----+------------+-------------------+--------------------+------+--------+--------------+----+----------+------------+-------------+\n",
            "|     ID|Case_Number|      Date|               Block|IUCR|Primary_Type|        Description|Location_Description|Arrest|Domestic|Community_Area|Year|Updated_On|    Latitude|    Longitude|\n",
            "+-------+-----------+----------+--------------------+----+------------+-------------------+--------------------+------+--------+--------------+----+----------+------------+-------------+\n",
            "|  21408|    A417216|2010-09-06|039XX S VINCENNES...|0110|    HOMICIDE|FIRST DEGREE MURDER|                AUTO|  true|   false|            38|2010|2022-09-19|41.823529117|-87.612707977|\n",
            "|   1900|    C153276|2002-12-05|     055XX W RICE ST|0110|    HOMICIDE|FIRST DEGREE MURDER|              STREET|  true|   false|            25|2002|2022-09-19|41.895773675|-87.764072031|\n",
            "|   1956|    D212672|2002-12-31|  061XX S DREXEL AVE|0110|    HOMICIDE|FIRST DEGREE MURDER|              STREET|  true|   false|            42|2002|2022-09-19|41.783569249|-87.604374166|\n",
            "|1375032|    F072578|2001-02-05|    083XX S BAKER AV|0460|     BATTERY|             SIMPLE|              STREET| false|   false|          NULL|2001|2015-08-17| 41.74195729|-87.548119531|\n",
            "|1391053|    F104558|2001-02-20|031XX S SACRAMENT...|0460|     BATTERY|             SIMPLE|               ALLEY| false|   false|          NULL|2001|2015-08-17|41.837230208|-87.700071474|\n",
            "+-------+-----------+----------+--------------------+----+------------+-------------------+--------------------+------+--------+--------------+----+----------+------------+-------------+\n",
            "only showing top 5 rows\n",
            "\n"
          ]
        }
      ],
      "source": [
        "crime_df_cleaned.show(5)"
      ]
    },
    {
      "cell_type": "code",
      "execution_count": null,
      "metadata": {
        "id": "w6q-NSunccQV"
      },
      "outputs": [],
      "source": [
        "# Define the start date of COVID-19 pandemic (change if needed)\n",
        "covid_start_date = '2020-01-01'\n",
        "\n",
        "# Filter the DataFrame to only include dates from the start of COVID-19 until now\n",
        "crime_df_during_covid = crime_df_cleaned.filter(col('Date') >= covid_start_date)"
      ]
    },
    {
      "cell_type": "code",
      "execution_count": null,
      "metadata": {
        "colab": {
          "base_uri": "https://localhost:8080/"
        },
        "id": "p1F8A-X4dM23",
        "outputId": "529c597f-8746-498d-cfcc-1f27a67f3ec9"
      },
      "outputs": [
        {
          "data": {
            "text/plain": [
              "980337"
            ]
          },
          "execution_count": 33,
          "metadata": {},
          "output_type": "execute_result"
        }
      ],
      "source": [
        "crime_df_during_covid.count()"
      ]
    },
    {
      "cell_type": "markdown",
      "metadata": {},
      "source": [
        "After clean data and extract data since covid, we have 980337 observations now. "
      ]
    },
    {
      "cell_type": "markdown",
      "metadata": {
        "id": "WP2VVmYgjrbX"
      },
      "source": [
        "### Save data in drive"
      ]
    },
    {
      "cell_type": "markdown",
      "metadata": {},
      "source": [
        "##### Complete Cleaned Crime Data"
      ]
    },
    {
      "cell_type": "code",
      "execution_count": null,
      "metadata": {
        "id": "XW_0iihln_Eo"
      },
      "outputs": [],
      "source": [
        "crime_df_cleaned.coalesce(1).write.format(\"csv\").option(\"header\", \"true\").save('/content/drive/My Drive/Colab Notebooks/crimes_cleaned.csv')"
      ]
    },
    {
      "cell_type": "code",
      "execution_count": 5,
      "metadata": {
        "id": "Xc-P6GxabE1j"
      },
      "outputs": [],
      "source": [
        "# Define the file path\n",
        "file_path = '/content/drive/My Drive/Colab Notebooks/crimes_cleaned.csv/part-00000-5fb4f1db-d2d4-4392-ad16-034ead198222-c000.csv'\n",
        "\n",
        "# Read the CSV file into a Pandas DataFrame\n",
        "crimes_df = pd.read_csv(file_path)"
      ]
    },
    {
      "cell_type": "code",
      "execution_count": null,
      "metadata": {
        "colab": {
          "base_uri": "https://localhost:8080/"
        },
        "id": "1vAnd7g8tjqB",
        "outputId": "caddff32-a629-4da8-ed4a-8cd782386843"
      },
      "outputs": [
        {
          "name": "stdout",
          "output_type": "stream",
          "text": [
            "Size of the CSV file:1.122369566000998GB\n"
          ]
        }
      ],
      "source": [
        "# Get the size of the CSV file\n",
        "file_size_GB = os.path.getsize(file_path) / (1024 * 1024 * 1024)  # 1 GB = 1024 * 1024 * 1024 bytes\n",
        "\n",
        "print(f\"Size of the CSV file:{file_size_GB}GB\")"
      ]
    },
    {
      "cell_type": "markdown",
      "metadata": {},
      "source": [
        "##### Crime Data After Covid"
      ]
    },
    {
      "cell_type": "code",
      "execution_count": null,
      "metadata": {
        "id": "f6oLLkzodF_t"
      },
      "outputs": [],
      "source": [
        "crime_df_during_covid.coalesce(1).write.format(\"csv\").option(\"header\", \"true\").save('/content/drive/My Drive/Colab Notebooks/crimes_covid.csv')"
      ]
    }
  ],
  "metadata": {
    "colab": {
      "provenance": []
    },
    "kernelspec": {
      "display_name": "Python 3",
      "name": "python3"
    },
    "language_info": {
      "codemirror_mode": {
        "name": "ipython",
        "version": 3
      },
      "file_extension": ".py",
      "mimetype": "text/x-python",
      "name": "python",
      "nbconvert_exporter": "python",
      "pygments_lexer": "ipython3",
      "version": "3.11.7"
    }
  },
  "nbformat": 4,
  "nbformat_minor": 0
}
